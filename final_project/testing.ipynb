{
 "cells": [
  {
   "cell_type": "code",
   "execution_count": 52,
   "metadata": {},
   "outputs": [],
   "source": [
    "import numpy as np\n",
    "import pandas as pd\n",
    "from sklearn.model_selection import train_test_split\n",
    "from sklearn.preprocessing import LabelEncoder\n",
    "from sklearn.neighbors import KNeighborsClassifier\n",
    "from fairlearn.metrics import MetricFrame, selection_rate, demographic_parity_difference\n",
    "from fairlearn.postprocessing import ThresholdOptimizer"
   ]
  },
  {
   "cell_type": "code",
   "execution_count": 3,
   "metadata": {},
   "outputs": [],
   "source": [
    "dataset = pd.read_csv('tcc_ceds_music.csv')\n",
    "dataset['artist_name'] = dataset['artist_name'].str.lower()"
   ]
  },
  {
   "cell_type": "code",
   "execution_count": 4,
   "metadata": {},
   "outputs": [
    {
     "data": {
      "text/plain": [
       "array(['pop', 'country', 'blues', 'jazz', 'reggae', 'rock', 'hip hop'],\n",
       "      dtype=object)"
      ]
     },
     "execution_count": 4,
     "metadata": {},
     "output_type": "execute_result"
    }
   ],
   "source": [
    "dataset['genre'].unique()"
   ]
  },
  {
   "cell_type": "code",
   "execution_count": 5,
   "metadata": {},
   "outputs": [],
   "source": [
    "gender = pd.read_csv('gender.csv')\n",
    "gender['NAME'] = gender['NAME'].str.lower()\n",
    "gender.rename(columns={'NAME': 'artist_name'}, inplace=True)"
   ]
  },
  {
   "cell_type": "code",
   "execution_count": 7,
   "metadata": {},
   "outputs": [],
   "source": [
    "combined = dataset.merge(right = gender, how = 'inner', on = 'artist_name')"
   ]
  },
  {
   "cell_type": "code",
   "execution_count": 10,
   "metadata": {},
   "outputs": [
    {
     "data": {
      "text/html": [
       "<div>\n",
       "<style scoped>\n",
       "    .dataframe tbody tr th:only-of-type {\n",
       "        vertical-align: middle;\n",
       "    }\n",
       "\n",
       "    .dataframe tbody tr th {\n",
       "        vertical-align: top;\n",
       "    }\n",
       "\n",
       "    .dataframe thead th {\n",
       "        text-align: right;\n",
       "    }\n",
       "</style>\n",
       "<table border=\"1\" class=\"dataframe\">\n",
       "  <thead>\n",
       "    <tr style=\"text-align: right;\">\n",
       "      <th></th>\n",
       "      <th>CHARTMETRIC_ID</th>\n",
       "      <th>NAME</th>\n",
       "      <th>ARTIST_COUNTRY</th>\n",
       "      <th>PRONOUN</th>\n",
       "      <th>GENDER</th>\n",
       "      <th>IS_BAND</th>\n",
       "      <th>GENRE</th>\n",
       "    </tr>\n",
       "  </thead>\n",
       "  <tbody>\n",
       "    <tr>\n",
       "      <th>276558</th>\n",
       "      <td>627070</td>\n",
       "      <td>Drake</td>\n",
       "      <td>CL</td>\n",
       "      <td>they/them</td>\n",
       "      <td>NaN</td>\n",
       "      <td>True</td>\n",
       "      <td>[\\r\\n  \"metal\",\\r\\n  \"rock\",\\r\\n  \"hard rock\"\\...</td>\n",
       "    </tr>\n",
       "    <tr>\n",
       "      <th>545887</th>\n",
       "      <td>3380</td>\n",
       "      <td>Drake</td>\n",
       "      <td>CA</td>\n",
       "      <td>he/him</td>\n",
       "      <td>male</td>\n",
       "      <td>False</td>\n",
       "      <td>[\\r\\n  \"hip-hop/rap\",\\r\\n  \"Hip-Hop/Rap\",\\r\\n ...</td>\n",
       "    </tr>\n",
       "  </tbody>\n",
       "</table>\n",
       "</div>"
      ],
      "text/plain": [
       "        CHARTMETRIC_ID   NAME ARTIST_COUNTRY    PRONOUN GENDER IS_BAND  \\\n",
       "276558          627070  Drake             CL  they/them    NaN    True   \n",
       "545887            3380  Drake             CA     he/him   male   False   \n",
       "\n",
       "                                                    GENRE  \n",
       "276558  [\\r\\n  \"metal\",\\r\\n  \"rock\",\\r\\n  \"hard rock\"\\...  \n",
       "545887  [\\r\\n  \"hip-hop/rap\",\\r\\n  \"Hip-Hop/Rap\",\\r\\n ...  "
      ]
     },
     "execution_count": 10,
     "metadata": {},
     "output_type": "execute_result"
    }
   ],
   "source": [
    "bruh = pd.read_csv('gender.csv')\n",
    "bruh[bruh['NAME'].str.lower() == 'drake']"
   ]
  },
  {
   "cell_type": "code",
   "execution_count": 11,
   "metadata": {},
   "outputs": [],
   "source": [
    "#now, make sure genres are similar"
   ]
  },
  {
   "cell_type": "code",
   "execution_count": 12,
   "metadata": {},
   "outputs": [],
   "source": [
    "def remove_stuff(df, column):\n",
    "    to_remove = ['[',']','\\n','\\r',\"\\\"\",\" \"]\n",
    "    for item in to_remove:\n",
    "        df[column] = df[column].str.replace(item, '')\n",
    "    return df\n",
    "\n",
    "gender_new = remove_stuff(gender, 'GENRE')\n",
    "\n",
    "#Works!"
   ]
  },
  {
   "cell_type": "code",
   "execution_count": 13,
   "metadata": {},
   "outputs": [],
   "source": [
    "#Split the GENRE into a list , separated by commas\n",
    "gender_new['GENRE'] = gender_new['GENRE'].str.split(',')"
   ]
  },
  {
   "cell_type": "code",
   "execution_count": 15,
   "metadata": {},
   "outputs": [],
   "source": [
    "combined1 = dataset.merge(right = gender_new, how = 'inner', on = 'artist_name')\n",
    "combined1\n",
    "filtered_df = combined1[combined1.apply(\n",
    "        lambda row: any(row['genre'].lower() == g.lower() for g in row['GENRE']) if isinstance(row['GENRE'], list) else False, \n",
    "        axis=1\n",
    "    )]\n",
    "# Still missing the hip hop, since it is all hip-hop/rap"
   ]
  },
  {
   "cell_type": "code",
   "execution_count": null,
   "metadata": {},
   "outputs": [
    {
     "data": {
      "text/plain": [
       "array(['pop', 'country', 'blues', 'jazz', 'reggae', 'rock'], dtype=object)"
      ]
     },
     "execution_count": 17,
     "metadata": {},
     "output_type": "execute_result"
    }
   ],
   "source": [
    "# filtered_df['genre'].unique()"
   ]
  },
  {
   "cell_type": "code",
   "execution_count": 18,
   "metadata": {},
   "outputs": [],
   "source": [
    "#Okay, it's not great, but we have our dataset now. Fantastic! Come back and clean it up later."
   ]
  },
  {
   "cell_type": "code",
   "execution_count": 44,
   "metadata": {},
   "outputs": [],
   "source": [
    "filtered_df.loc[filtered_df['PRONOUN'] == 'he/him', 'GENDER'] = 'male'\n",
    "filtered_df.loc[filtered_df['PRONOUN'] == 'she/her', 'GENDER'] = 'female'"
   ]
  },
  {
   "cell_type": "code",
   "execution_count": 47,
   "metadata": {
    "vscode": {
     "languageId": "powershell"
    }
   },
   "outputs": [],
   "source": [
    "filtered_df = filtered_df.dropna(subset=['GENDER'])"
   ]
  },
  {
   "cell_type": "code",
   "execution_count": 50,
   "metadata": {
    "vscode": {
     "languageId": "powershell"
    }
   },
   "outputs": [
    {
     "data": {
      "text/html": [
       "<div>\n",
       "<style scoped>\n",
       "    .dataframe tbody tr th:only-of-type {\n",
       "        vertical-align: middle;\n",
       "    }\n",
       "\n",
       "    .dataframe tbody tr th {\n",
       "        vertical-align: top;\n",
       "    }\n",
       "\n",
       "    .dataframe thead th {\n",
       "        text-align: right;\n",
       "    }\n",
       "</style>\n",
       "<table border=\"1\" class=\"dataframe\">\n",
       "  <thead>\n",
       "    <tr style=\"text-align: right;\">\n",
       "      <th></th>\n",
       "      <th>Unnamed: 0</th>\n",
       "      <th>artist_name</th>\n",
       "      <th>track_name</th>\n",
       "      <th>release_date</th>\n",
       "      <th>genre</th>\n",
       "      <th>lyrics</th>\n",
       "      <th>len</th>\n",
       "      <th>dating</th>\n",
       "      <th>violence</th>\n",
       "      <th>world/life</th>\n",
       "      <th>...</th>\n",
       "      <th>instrumentalness</th>\n",
       "      <th>valence</th>\n",
       "      <th>energy</th>\n",
       "      <th>topic</th>\n",
       "      <th>age</th>\n",
       "      <th>CHARTMETRIC_ID</th>\n",
       "      <th>ARTIST_COUNTRY</th>\n",
       "      <th>PRONOUN</th>\n",
       "      <th>IS_BAND</th>\n",
       "      <th>GENRE</th>\n",
       "    </tr>\n",
       "    <tr>\n",
       "      <th>GENDER</th>\n",
       "      <th></th>\n",
       "      <th></th>\n",
       "      <th></th>\n",
       "      <th></th>\n",
       "      <th></th>\n",
       "      <th></th>\n",
       "      <th></th>\n",
       "      <th></th>\n",
       "      <th></th>\n",
       "      <th></th>\n",
       "      <th></th>\n",
       "      <th></th>\n",
       "      <th></th>\n",
       "      <th></th>\n",
       "      <th></th>\n",
       "      <th></th>\n",
       "      <th></th>\n",
       "      <th></th>\n",
       "      <th></th>\n",
       "      <th></th>\n",
       "      <th></th>\n",
       "    </tr>\n",
       "  </thead>\n",
       "  <tbody>\n",
       "    <tr>\n",
       "      <th>female</th>\n",
       "      <td>2689</td>\n",
       "      <td>2689</td>\n",
       "      <td>2689</td>\n",
       "      <td>2689</td>\n",
       "      <td>2689</td>\n",
       "      <td>2689</td>\n",
       "      <td>2689</td>\n",
       "      <td>2689</td>\n",
       "      <td>2689</td>\n",
       "      <td>2689</td>\n",
       "      <td>...</td>\n",
       "      <td>2689</td>\n",
       "      <td>2689</td>\n",
       "      <td>2689</td>\n",
       "      <td>2689</td>\n",
       "      <td>2689</td>\n",
       "      <td>2689</td>\n",
       "      <td>2630</td>\n",
       "      <td>2689</td>\n",
       "      <td>2673</td>\n",
       "      <td>2689</td>\n",
       "    </tr>\n",
       "    <tr>\n",
       "      <th>male</th>\n",
       "      <td>10806</td>\n",
       "      <td>10806</td>\n",
       "      <td>10806</td>\n",
       "      <td>10806</td>\n",
       "      <td>10806</td>\n",
       "      <td>10806</td>\n",
       "      <td>10806</td>\n",
       "      <td>10806</td>\n",
       "      <td>10806</td>\n",
       "      <td>10806</td>\n",
       "      <td>...</td>\n",
       "      <td>10806</td>\n",
       "      <td>10806</td>\n",
       "      <td>10806</td>\n",
       "      <td>10806</td>\n",
       "      <td>10806</td>\n",
       "      <td>10806</td>\n",
       "      <td>10778</td>\n",
       "      <td>10806</td>\n",
       "      <td>10729</td>\n",
       "      <td>10806</td>\n",
       "    </tr>\n",
       "    <tr>\n",
       "      <th>mixed</th>\n",
       "      <td>174</td>\n",
       "      <td>174</td>\n",
       "      <td>174</td>\n",
       "      <td>174</td>\n",
       "      <td>174</td>\n",
       "      <td>174</td>\n",
       "      <td>174</td>\n",
       "      <td>174</td>\n",
       "      <td>174</td>\n",
       "      <td>174</td>\n",
       "      <td>...</td>\n",
       "      <td>174</td>\n",
       "      <td>174</td>\n",
       "      <td>174</td>\n",
       "      <td>174</td>\n",
       "      <td>174</td>\n",
       "      <td>174</td>\n",
       "      <td>174</td>\n",
       "      <td>174</td>\n",
       "      <td>174</td>\n",
       "      <td>174</td>\n",
       "    </tr>\n",
       "    <tr>\n",
       "      <th>non-binary</th>\n",
       "      <td>13</td>\n",
       "      <td>13</td>\n",
       "      <td>13</td>\n",
       "      <td>13</td>\n",
       "      <td>13</td>\n",
       "      <td>13</td>\n",
       "      <td>13</td>\n",
       "      <td>13</td>\n",
       "      <td>13</td>\n",
       "      <td>13</td>\n",
       "      <td>...</td>\n",
       "      <td>13</td>\n",
       "      <td>13</td>\n",
       "      <td>13</td>\n",
       "      <td>13</td>\n",
       "      <td>13</td>\n",
       "      <td>13</td>\n",
       "      <td>13</td>\n",
       "      <td>13</td>\n",
       "      <td>13</td>\n",
       "      <td>13</td>\n",
       "    </tr>\n",
       "    <tr>\n",
       "      <th>not specified</th>\n",
       "      <td>5</td>\n",
       "      <td>5</td>\n",
       "      <td>5</td>\n",
       "      <td>5</td>\n",
       "      <td>5</td>\n",
       "      <td>5</td>\n",
       "      <td>5</td>\n",
       "      <td>5</td>\n",
       "      <td>5</td>\n",
       "      <td>5</td>\n",
       "      <td>...</td>\n",
       "      <td>5</td>\n",
       "      <td>5</td>\n",
       "      <td>5</td>\n",
       "      <td>5</td>\n",
       "      <td>5</td>\n",
       "      <td>5</td>\n",
       "      <td>5</td>\n",
       "      <td>5</td>\n",
       "      <td>5</td>\n",
       "      <td>5</td>\n",
       "    </tr>\n",
       "  </tbody>\n",
       "</table>\n",
       "<p>5 rows × 36 columns</p>\n",
       "</div>"
      ],
      "text/plain": [
       "               Unnamed: 0  artist_name  track_name  release_date  genre  \\\n",
       "GENDER                                                                    \n",
       "female               2689         2689        2689          2689   2689   \n",
       "male                10806        10806       10806         10806  10806   \n",
       "mixed                 174          174         174           174    174   \n",
       "non-binary             13           13          13            13     13   \n",
       "not specified           5            5           5             5      5   \n",
       "\n",
       "               lyrics    len  dating  violence  world/life  ...  \\\n",
       "GENDER                                                      ...   \n",
       "female           2689   2689    2689      2689        2689  ...   \n",
       "male            10806  10806   10806     10806       10806  ...   \n",
       "mixed             174    174     174       174         174  ...   \n",
       "non-binary         13     13      13        13          13  ...   \n",
       "not specified       5      5       5         5           5  ...   \n",
       "\n",
       "               instrumentalness  valence  energy  topic    age  \\\n",
       "GENDER                                                           \n",
       "female                     2689     2689    2689   2689   2689   \n",
       "male                      10806    10806   10806  10806  10806   \n",
       "mixed                       174      174     174    174    174   \n",
       "non-binary                   13       13      13     13     13   \n",
       "not specified                 5        5       5      5      5   \n",
       "\n",
       "               CHARTMETRIC_ID  ARTIST_COUNTRY  PRONOUN  IS_BAND  GENRE  \n",
       "GENDER                                                                  \n",
       "female                   2689            2630     2689     2673   2689  \n",
       "male                    10806           10778    10806    10729  10806  \n",
       "mixed                     174             174      174      174    174  \n",
       "non-binary                 13              13       13       13     13  \n",
       "not specified               5               5        5        5      5  \n",
       "\n",
       "[5 rows x 36 columns]"
      ]
     },
     "execution_count": 50,
     "metadata": {},
     "output_type": "execute_result"
    }
   ],
   "source": [
    "filtered_df.groupby('GENDER').count()"
   ]
  },
  {
   "cell_type": "code",
   "execution_count": 53,
   "metadata": {
    "vscode": {
     "languageId": "powershell"
    }
   },
   "outputs": [
    {
     "data": {
      "text/plain": [
       "Index(['Unnamed: 0', 'artist_name', 'track_name', 'release_date', 'genre',\n",
       "       'lyrics', 'len', 'dating', 'violence', 'world/life', 'night/time',\n",
       "       'shake the audience', 'family/gospel', 'romantic', 'communication',\n",
       "       'obscene', 'music', 'movement/places', 'light/visual perceptions',\n",
       "       'family/spiritual', 'like/girls', 'sadness', 'feelings', 'danceability',\n",
       "       'loudness', 'acousticness', 'instrumentalness', 'valence', 'energy',\n",
       "       'topic', 'age', 'CHARTMETRIC_ID', 'ARTIST_COUNTRY', 'PRONOUN', 'GENDER',\n",
       "       'IS_BAND', 'GENRE'],\n",
       "      dtype='object')"
      ]
     },
     "execution_count": 53,
     "metadata": {},
     "output_type": "execute_result"
    }
   ],
   "source": [
    "# list all of the features of the data set\n",
    "filtered_df.columns"
   ]
  },
  {
   "cell_type": "code",
   "execution_count": 55,
   "metadata": {
    "vscode": {
     "languageId": "powershell"
    }
   },
   "outputs": [],
   "source": [
    "filtered_df.to_csv('filtered_df.csv', index=True)"
   ]
  },
  {
   "cell_type": "code",
   "execution_count": 56,
   "metadata": {
    "vscode": {
     "languageId": "powershell"
    }
   },
   "outputs": [],
   "source": [
    "# # Step 1: Load the Data\n",
    "# data = filtered_df\n",
    "\n",
    "# # Step 2: Preprocess Data\n",
    "# # Select relevant features based on columns in your dataset, took out GENRE\n",
    "# features = [\n",
    "#     'artist_name', 'release_date', 'genre',\n",
    "#        'lyrics', 'len', 'dating', 'violence', 'world/life', 'night/time',\n",
    "#        'shake the audience', 'family/gospel', 'romantic', 'communication',\n",
    "#        'obscene', 'music', 'movement/places', 'light/visual perceptions',\n",
    "#        'family/spiritual', 'like/girls', 'sadness', 'feelings', 'danceability',\n",
    "#        'loudness', 'acousticness', 'instrumentalness', 'valence', 'energy',\n",
    "#        'topic', 'age', 'CHARTMETRIC_ID', 'ARTIST_COUNTRY', 'PRONOUN', 'GENDER',\n",
    "#        'IS_BAND'\n",
    "# ]\n",
    "# target = 'track_name'  # \"track_name\" is the target variable in this dataset\n",
    "\n",
    "# # Encode the target variable (topic)\n",
    "# data[target] = LabelEncoder().fit_transform(data[target])\n",
    "\n",
    "# # Step 3: Split Data\n",
    "# # Using 'age' as a proxy for the sensitive attribute here\n",
    "# X_train, X_test, y_train, y_test, sensitive_train, sensitive_test = train_test_split(\n",
    "#     data[features], data[target], data['age'], test_size=0.2, random_state=42\n",
    "# )\n",
    "\n",
    "# # Step 4: Define and Train the Model\n",
    "# model = KNeighborsClassifier(n_neighbors=5)\n",
    "# model.fit(X_train, y_train)\n",
    "\n",
    "# # Step 5: Fairness Evaluation\n",
    "# y_pred = model.predict(X_test)\n",
    "\n",
    "# # Using Fairlearn to assess fairness\n",
    "# metric_frame = MetricFrame(\n",
    "#     metrics={\"accuracy\": lambda y_true, y_pred: (y_true == y_pred).mean(),\n",
    "#              \"selection_rate\": selection_rate},\n",
    "#     y_true=y_test,\n",
    "#     y_pred=y_pred,\n",
    "#     sensitive_features=sensitive_test\n",
    "# )\n",
    "\n",
    "# # Display metrics for each group\n",
    "# print(\"Accuracy per group (based on age):\", metric_frame.by_group[\"accuracy\"])\n",
    "# print(\"Selection rate per group (based on age):\", metric_frame.by_group[\"selection_rate\"])\n",
    "# print(\"Demographic Parity Difference (based on age):\", demographic_parity_difference(y_true=y_test, y_pred=y_pred, sensitive_features=sensitive_test))\n"
   ]
  },
  {
   "cell_type": "code",
   "execution_count": 10,
   "metadata": {
    "vscode": {
     "languageId": "powershell"
    }
   },
   "outputs": [
    {
     "name": "stdout",
     "output_type": "stream",
     "text": [
      "Loading and sampling data...\n",
      "Found 69 songs in the 'rock' genre.\n",
      "\n",
      "Recommended Songs:\n",
      "          artist_name  track_name genre  GENDER ARTIST_COUNTRY\n",
      "15        the beatles        4795  rock    male             GB\n",
      "4       elvis presley        4969  rock    male             US\n",
      "11          the kinks        3766  rock    male             GB\n",
      "18         pink floyd         613  rock    male             GB\n",
      "3       elvis presley        6158  rock    male             US\n",
      "5    barbra streisand        5899  rock  female             US\n",
      "26       james taylor        4354  rock    male             US\n",
      "25          meat loaf        2615  rock    male             US\n",
      "47      lionel richie         720  rock    male             US\n",
      "61      mark knopfler        2908  rock    male             GB\n",
      "7       elvis presley        2706  rock    male             US\n",
      "2       elvis presley        8646  rock    male             US\n",
      "20     paul mccartney        7099  rock    male             GB\n",
      "14         pink floyd        9056  rock    male             GB\n",
      "39         air supply        3295  rock    male             AU\n",
      "10        the beatles       10691  rock    male             GB\n",
      "1       elvis presley          36  rock    male             US\n",
      "16         pink floyd         200  rock    male             GB\n",
      "59  bruce springsteen        4361  rock    male             US\n",
      "53     paul mccartney        6316  rock    male             US\n",
      "\n",
      "Fairness Metrics:\n",
      "DPR (Gender): 0.053\n",
      "MD (Gender): 0.900\n",
      "DPR (Country): 0.091\n",
      "MD (Country): 0.150\n"
     ]
    }
   ],
   "source": [
    "import pandas as pd\n",
    "import numpy as np\n",
    "import random\n",
    "import time\n",
    "from sklearn.preprocessing import MinMaxScaler\n",
    "from sklearn.decomposition import PCA\n",
    "from sklearn.neighbors import NearestNeighbors\n",
    "\n",
    "# Step 1: Adjust parameters\n",
    "file_path = \"filtered_df.csv\"  # Adjust this path to where your CSV file is located\n",
    "sample_fraction = 0.05  # Fraction of rows to sample (adjust as needed)\n",
    "\n",
    "# Step 2: Define the columns to load and the numerical features to use\n",
    "selected_features = [\n",
    "    \"danceability\", \"energy\", \"valence\", \"acousticness\", \"instrumentalness\",\n",
    "    \"loudness\", \"age\"\n",
    "]\n",
    "essential_columns = ['artist_name', 'track_name', 'genre', 'GENDER', 'ARTIST_COUNTRY'] + selected_features\n",
    "\n",
    "# Load the dataset\n",
    "def load_sample(file_path, sample_fraction, columns):\n",
    "    print(\"Loading and sampling data...\")\n",
    "    return pd.read_csv(\n",
    "        file_path,\n",
    "        usecols=columns,\n",
    "        skiprows=lambda i: i > 0 and random.random() > sample_fraction\n",
    "    )\n",
    "\n",
    "df_sample = load_sample(file_path, sample_fraction, essential_columns)\n",
    "\n",
    "# Check if data is loaded\n",
    "if df_sample.empty:\n",
    "    print(\"No data loaded. Please check the sample fraction or file path.\")\n",
    "    exit()\n",
    "\n",
    "# Get user input for genre\n",
    "user_genre = input(\"Enter a genre: \").strip().lower()\n",
    "df_genre_filtered = df_sample[df_sample['genre'].str.lower() == user_genre].copy()\n",
    "\n",
    "if df_genre_filtered.empty:\n",
    "    print(f\"No songs found for the genre '{user_genre}'. Please try a different genre.\")\n",
    "    exit()\n",
    "\n",
    "print(f\"Found {len(df_genre_filtered)} songs in the '{user_genre}' genre.\")\n",
    "\n",
    "# Reset the index\n",
    "df_genre_filtered.reset_index(drop=True, inplace=True)\n",
    "\n",
    "# Normalize the features\n",
    "scaler = MinMaxScaler()\n",
    "df_genre_filtered.loc[:, selected_features] = scaler.fit_transform(df_genre_filtered[selected_features])\n",
    "\n",
    "# Apply PCA\n",
    "pca = PCA(n_components=5)\n",
    "reduced_features = pca.fit_transform(df_genre_filtered[selected_features])\n",
    "\n",
    "# Train Nearest Neighbors model\n",
    "model_knn = NearestNeighbors(metric='cosine', algorithm='brute', n_neighbors=6)\n",
    "model_knn.fit(reduced_features)\n",
    "\n",
    "# Function to recommend songs\n",
    "def recommend_songs(track_id, model, reduced_features, df, top_n=20):\n",
    "    track_index = df.index[df['track_name'] == track_id].tolist()[0]\n",
    "    distances, indices = model.kneighbors([reduced_features[track_index]], n_neighbors=top_n + 1)\n",
    "    recommended_indices = indices.flatten()[1:]\n",
    "    return df.iloc[recommended_indices][['artist_name', 'track_name', 'genre', 'GENDER', 'ARTIST_COUNTRY']]\n",
    "\n",
    "# Function to calculate fairness metrics\n",
    "def calculate_fairness(df, recommendations):\n",
    "    # Calculate Demographic Parity Ratio (DPR) and Mean Difference (MD) for GENDER\n",
    "    gender_counts = recommendations['GENDER'].value_counts(normalize=True)\n",
    "    if len(gender_counts) > 1:\n",
    "        dpr_gender = gender_counts.min() / gender_counts.max()\n",
    "        md_gender = abs(gender_counts.diff().dropna().iloc[0])\n",
    "    else:\n",
    "        dpr_gender, md_gender = 1, 0\n",
    "\n",
    "    # Calculate Demographic Parity Ratio (DPR) and Mean Difference (MD) for ARTIST_COUNTRY\n",
    "    country_counts = recommendations['ARTIST_COUNTRY'].value_counts(normalize=True)\n",
    "    if len(country_counts) > 1:\n",
    "        dpr_country = country_counts.min() / country_counts.max()\n",
    "        md_country = abs(country_counts.diff().dropna().iloc[0])\n",
    "    else:\n",
    "        dpr_country, md_country = 1, 0\n",
    "\n",
    "    return {\n",
    "        'DPR (Gender)': dpr_gender,\n",
    "        'MD (Gender)': md_gender,\n",
    "        'DPR (Country)': dpr_country,\n",
    "        'MD (Country)': md_country\n",
    "    }\n",
    "\n",
    "# Generate recommendations\n",
    "if len(df_genre_filtered) > 0:\n",
    "    sample_track_id = df_genre_filtered['track_name'].iloc[0]\n",
    "    recommendations = recommend_songs(sample_track_id, model_knn, reduced_features, df_genre_filtered)\n",
    "    \n",
    "    # Display recommendations\n",
    "    print(\"\\nRecommended Songs:\")\n",
    "    print(recommendations)\n",
    "\n",
    "    # Calculate and display fairness metrics\n",
    "    fairness_metrics = calculate_fairness(df_genre_filtered, recommendations)\n",
    "    print(\"\\nFairness Metrics:\")\n",
    "    for metric, value in fairness_metrics.items():\n",
    "        print(f\"{metric}: {value:.3f}\")\n",
    "else:\n",
    "    print(\"No data available after filtering by genre.\")\n"
   ]
  },
  {
   "cell_type": "code",
   "execution_count": 12,
   "metadata": {
    "vscode": {
     "languageId": "powershell"
    }
   },
   "outputs": [
    {
     "name": "stdout",
     "output_type": "stream",
     "text": [
      "\n",
      "Average Fairness Metrics over 10000 simulations:\n",
      "DPR (Gender): 0.805\n",
      "MD (Gender): 0.155\n",
      "DPR (Country): 0.547\n",
      "MD (Country): 0.281\n",
      "Time taken: 17.239089965820312 seconds\n"
     ]
    }
   ],
   "source": [
    "import pandas as pd\n",
    "import numpy as np\n",
    "\n",
    "start = 0\n",
    "stop = 0\n",
    "\n",
    "def simulate_fairness_metrics(n, df, model, reduced_features):\n",
    "    \"\"\"\n",
    "    Run n simulations of the recommendation system and calculate average fairness metrics.\n",
    "    \n",
    "    Parameters:\n",
    "    n (int): Number of simulations to run\n",
    "    df (DataFrame): The filtered DataFrame used for recommendations\n",
    "    model (NearestNeighbors): Trained Nearest Neighbors model\n",
    "    reduced_features (ndarray): PCA-transformed feature set\n",
    "    \n",
    "    Returns:\n",
    "    dict: Averages of fairness metrics over n simulations\n",
    "    \"\"\"\n",
    "    \n",
    "    def recommend_songs(track_id, model, reduced_features, df, top_n=5):\n",
    "        # Get the index of the given track\n",
    "        track_index = df.index[df['track_name'] == track_id].tolist()[0]\n",
    "        distances, indices = model.kneighbors([reduced_features[track_index]], n_neighbors=top_n + 1)\n",
    "        recommended_indices = indices.flatten()[1:]\n",
    "        return df.iloc[recommended_indices][['artist_name', 'track_name', 'genre', 'GENDER', 'ARTIST_COUNTRY']]\n",
    "    \n",
    "    def calculate_fairness(recommendations):\n",
    "        # Calculate Demographic Parity Ratio (DPR) and Mean Difference (MD) for GENDER\n",
    "        gender_counts = recommendations['GENDER'].value_counts(normalize=True)\n",
    "        if len(gender_counts) > 1:\n",
    "            dpr_gender = gender_counts.min() / gender_counts.max()\n",
    "            md_gender = abs(gender_counts.diff().dropna().iloc[0])\n",
    "        else:\n",
    "            dpr_gender, md_gender = 1, 0\n",
    "\n",
    "        # Calculate Demographic Parity Ratio (DPR) and Mean Difference (MD) for ARTIST_COUNTRY\n",
    "        country_counts = recommendations['ARTIST_COUNTRY'].value_counts(normalize=True)\n",
    "        if len(country_counts) > 1:\n",
    "            dpr_country = country_counts.min() / country_counts.max()\n",
    "            md_country = abs(country_counts.diff().dropna().iloc[0])\n",
    "        else:\n",
    "            dpr_country, md_country = 1, 0\n",
    "\n",
    "        return {\n",
    "            'DPR (Gender)': dpr_gender,\n",
    "            'MD (Gender)': md_gender,\n",
    "            'DPR (Country)': dpr_country,\n",
    "            'MD (Country)': md_country\n",
    "        }\n",
    "    \n",
    "    # Initialize sums of metrics\n",
    "    total_metrics = {\n",
    "        'DPR (Gender)': 0,\n",
    "        'MD (Gender)': 0,\n",
    "        'DPR (Country)': 0,\n",
    "        'MD (Country)': 0\n",
    "    }\n",
    "    \n",
    "    # Run n simulations\n",
    "    for _ in range(n):\n",
    "        # Randomly select a track to generate recommendations\n",
    "        sample_track_id = df['track_name'].sample(1).iloc[0]\n",
    "        recommendations = recommend_songs(sample_track_id, model, reduced_features, df)\n",
    "        \n",
    "        # Calculate fairness metrics for this simulation\n",
    "        metrics = calculate_fairness(recommendations)\n",
    "        \n",
    "        # Accumulate the metrics\n",
    "        for key in total_metrics:\n",
    "            total_metrics[key] += metrics[key]\n",
    "    \n",
    "    # Calculate averages\n",
    "    avg_metrics = {key: value / n for key, value in total_metrics.items()}\n",
    "    \n",
    "    return avg_metrics\n",
    "\n",
    "# Example usage:\n",
    "n_simulations = 10000\n",
    "start = time.time()\n",
    "avg_fairness_metrics = simulate_fairness_metrics(n_simulations, df_genre_filtered, model_knn, reduced_features)\n",
    "stop = time.time()\n",
    "print(f\"\\nAverage Fairness Metrics over {n_simulations} simulations:\")\n",
    "for metric, value in avg_fairness_metrics.items():\n",
    "    print(f\"{metric}: {value:.3f}\")\n",
    "\n",
    "print(f\"Time taken: {stop-start} seconds\")\n"
   ]
  },
  {
   "cell_type": "markdown",
   "metadata": {
    "vscode": {
     "languageId": "powershell"
    }
   },
   "source": [
    "# Results\n",
    "Average Fairness Metrics over 1000 simulations: \\\n",
    "DPR (Gender): 0.630 \\\n",
    "MD (Gender): 0.259 \\\n",
    "DPR (Country): 0.549 \\\n",
    "MD (Country): 0.289 \\\n",
    " \\\n",
    "Average Fairness Metrics over 10000 simulations: \\\n",
    "DPR (Gender): 0.642 \\\n",
    "MD (Gender): 0.250 \\\n",
    "DPR (Country): 0.536 \\\n",
    "MD (Country): 0.296 "
   ]
  },
  {
   "cell_type": "markdown",
   "metadata": {},
   "source": []
  }
 ],
 "metadata": {
  "kernelspec": {
   "display_name": "Python 3",
   "language": "python",
   "name": "python3"
  },
  "language_info": {
   "codemirror_mode": {
    "name": "ipython",
    "version": 3
   },
   "file_extension": ".py",
   "mimetype": "text/x-python",
   "name": "python",
   "nbconvert_exporter": "python",
   "pygments_lexer": "ipython3",
   "version": "3.11.9"
  }
 },
 "nbformat": 4,
 "nbformat_minor": 2
}
